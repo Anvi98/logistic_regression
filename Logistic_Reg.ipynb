{
 "cells": [
  {
   "cell_type": "code",
   "execution_count": 1,
   "metadata": {},
   "outputs": [],
   "source": [
    "# Import libraries\n",
    "import pandas as pd\n",
    "import numpy as np\n",
    "import matplotlib.pyplot as plt"
   ]
  },
  {
   "cell_type": "code",
   "execution_count": 2,
   "metadata": {},
   "outputs": [],
   "source": [
    "# Helper functions:\n",
    "\n",
    "# Split the dataset in training and testing sets with respect to the given percentage\n",
    "def splitter(X, Y, percent):\n",
    "    X_train = X[:int(len(X)*percent)]\n",
    "    Y_train = Y[:int(len(Y)*percent)]\n",
    "    \n",
    "    X_test = X[int(len(X)*percent):] \n",
    "    Y_test = Y[int(len(Y)*percent):]\n",
    "\n",
    "    return X_train, Y_train, X_test, Y_test\n",
    "\n",
    "## Confusion matrix\n",
    "def get_confusion_matrix(Y, y_hat):\n",
    "    tp = 0\n",
    "    fp = 0\n",
    "    tn = 0\n",
    "    fn = 0\n",
    "    # True Positive and False positive\n",
    "    for l, p in zip(Y, y_hat):\n",
    "        if l == 1 and p ==1:\n",
    "            tp +=1\n",
    "        if l == 0 and p == 1:\n",
    "            fp +=1\n",
    "        if l == 1 and p == 0:\n",
    "            fn +=1\n",
    "        if l == 0 and p == 0:\n",
    "            tn +=1\n",
    "    return tp, fp, tn, fn\n",
    "\n",
    "## Precision\n",
    "def precision(tp, fp):\n",
    "    precision = tp / (tp + fp)\n",
    "    return precision\n",
    "\n",
    "## Recall\n",
    "def recall(tp, fn):\n",
    "    recall = tp / (tp + fn)\n",
    "    return recall\n",
    "\n",
    "## F-measure\n",
    "def fScore(precision, recall):\n",
    "    fscore = (2*precision*recall)/(precision + recall)\n",
    "    return fscore\n",
    "\n",
    "# sigmoid\n",
    "def sigmoid(z):\n",
    "    return 1 / (1+ np.exp(-(z)))\n",
    "\n",
    "# Plot confusion matrix\n",
    "def plotConfusionMatrix(cm):\n",
    "    fig, ax = plt.subplots(figsize=(7.5, 7.5))\n",
    "    ax.matshow(cm, cmap=plt.cm.Blues, alpha=0.3)\n",
    "    for i in range(cm.shape[0]):\n",
    "        for j in range(cm.shape[1]):\n",
    "            ax.text(x=j, y=i,s=cm[i, j], va='center', ha='center', size='xx-large')\n",
    "\n",
    "    plt.xlabel('Predictions', fontsize=18)\n",
    "    plt.ylabel('Actuals', fontsize=18)\n",
    "    plt.title('Confusion Matrix', fontsize=18)\n",
    "    plt.show()\n",
    "\n",
    "# Plot learning curve\n",
    "def plotLearningCurve(history):\n",
    "    x = list(history.keys())\n",
    "    y = list(history.values())\n",
    "    plt.plot(x, y)\n",
    "    plt.title(\"Curve plotted using the given x and y\")\n",
    "    plt.xlabel(\"X\")\n",
    "    plt.ylabel(\"Y\")\n",
    "    plt.show()\n"
   ]
  },
  {
   "cell_type": "markdown",
   "metadata": {},
   "source": [
    "## Logistic Model Creation:"
   ]
  },
  {
   "cell_type": "code",
   "execution_count": 3,
   "metadata": {},
   "outputs": [],
   "source": [
    "## Model\n",
    "class LogisticRegAlex:\n",
    "    def __init__(self):\n",
    "        self.alpha = 0.5\n",
    "        self.history = {}\n",
    "\n",
    "    def train(self, X_train, Y_train, iteration):\n",
    "        self.X_train = X_train\n",
    "        self.Y_train = Y_train\n",
    "        self.iteration = iteration\n",
    "        self.W = np.zeros(X_train.shape[1])\n",
    "        self.W = self.W.reshape(1,-1)\n",
    "\n",
    "        #Training\n",
    "        for i in range(self.iteration):\n",
    "            self.Z = np.dot(self.W, self.X_train.T)\n",
    "            self.y_hat = sigmoid(self.Z)\n",
    "            self.y_hat = self.y_hat.reshape(-1,1)\n",
    "\n",
    "            ### compute error\n",
    "            # Multiply by 0.5 to make sure the model doesn't overfit\n",
    "            self.cost = 0.5 * np.absolute(np.mean((np.dot(-Y_train, np.log(self.y_hat.T)) +  np.dot((1-self.Y_train), np.log(1-self.y_hat.T)))))\n",
    "\n",
    "            #Print cost at i iterations:\n",
    "            if i % 100 == 0 or i == 1000:\n",
    "                # Save iterations and cos# plotConfusionMatrix(cm_train)t for plotting\n",
    "                print(f'Cost: {self.cost}  at iteration {i}')\n",
    "                self.history[i] = self.cost\n",
    "\n",
    "            ## Compute gradient\n",
    "            self.dJ_dW = 1/len(self.X_train)*np.dot((self.y_hat - self.Y_train).T, self.X_train)\n",
    "\n",
    "            ## Update weight with gradient descent\n",
    "            self.W = self.W - self.alpha * self.dJ_dW\n",
    "        \n",
    "        return self.W, self.history\n",
    "    \n",
    "    def test(self, X, Y):\n",
    "        self.X = X\n",
    "        self.Y = Y\n",
    "\n",
    "        ### Predictions \n",
    "        self.z_test = np.dot(self.W, self.X.T)\n",
    "        self.y_hat_test = sigmoid(self.z_test)\n",
    "\n",
    "        # Threshold\n",
    "        self.y_hat_test = [1 if p > 0.5 else 0 for i in self.y_hat_test for p in i ]\n",
    "\n",
    "        # This will help us get a list of labels not a list of lists of labels\n",
    "        self.Y = [y for i in self.Y for y in i]\n",
    "        \n",
    "        # Confusion Matrix\n",
    "        self.tp, self.fp, self.tn, self.fn = get_confusion_matrix(self.Y, self.y_hat_test)\n",
    "\n",
    "        ## Accuracy\n",
    "        self.acc = (self.tp + self.tn)/ (self.tp+ self.tn + self.fp + self.fn )\n",
    "\n",
    "        # precision\n",
    "        self.pre = precision(self.tp, self.fp)\n",
    "\n",
    "        # Recall\n",
    "        self.rec = recall(self.tp, self.fn)\n",
    "\n",
    "        #F-score\n",
    "        self.fscore = fScore(self.pre, self.rec)\n",
    "\n",
    "        # Confusion Matrix\n",
    "        self.cm = [[self.tp,self.fp],[self.fn, self.tn]]\n",
    "        self.cm = np.matrix(self.cm)\n",
    "        \n",
    "        self.scores = { 'accuracy': self.acc,'precision': self.pre, 'recall': self.rec, 'f1_score': self.fscore}\n",
    "\n",
    "        return self.scores, self.cm"
   ]
  },
  {
   "cell_type": "markdown",
   "metadata": {},
   "source": [
    "## Implementation of the model:\n"
   ]
  },
  {
   "cell_type": "code",
   "execution_count": 4,
   "metadata": {},
   "outputs": [],
   "source": [
    "## Load datasets\n",
    "X = pd.read_csv(\"features.csv\")\n",
    "Y = pd.read_csv(\"labels.csv\")\n",
    "\n",
    "Y.replace('ham', 0, inplace=True)\n",
    "Y.replace('spam', 1, inplace=True)\n",
    "\n",
    "X = np.array(X)\n",
    "X = X.transpose()\n",
    "Y = np.array(Y)"
   ]
  },
  {
   "cell_type": "code",
   "execution_count": 5,
   "metadata": {},
   "outputs": [],
   "source": [
    "## split dataset\n",
    "# train 80/20\n",
    "X_train, Y_train, X_test, Y_test = splitter(X, Y, 0.8)"
   ]
  },
  {
   "cell_type": "code",
   "execution_count": 6,
   "metadata": {},
   "outputs": [
    {
     "name": "stdout",
     "output_type": "stream",
     "text": [
      "Cost: 0.1809775216476155  at iteration 0\n",
      "Cost: 0.1823797266010098  at iteration 100\n",
      "Cost: 0.1735612963867016  at iteration 200\n",
      "Cost: 0.1642590887809743  at iteration 300\n",
      "Cost: 0.15621977829384623  at iteration 400\n",
      "Cost: 0.14948168336086734  at iteration 500\n",
      "Cost: 0.1437922599234312  at iteration 600\n",
      "Cost: 0.13890892865535553  at iteration 700\n",
      "Cost: 0.13464676639434756  at iteration 800\n",
      "Cost: 0.1308720172891839  at iteration 900\n"
     ]
    }
   ],
   "source": [
    "## Model Creation and Training\n",
    "model1 = LogisticRegAlex()\n",
    "W, history = model1.train(X_train, Y_train, 1000)"
   ]
  },
  {
   "cell_type": "code",
   "execution_count": 7,
   "metadata": {},
   "outputs": [],
   "source": [
    "## Extract Metrics\n",
    "scores_train, cm_train = model1.test(X_train, Y_train)\n",
    "scores_test, cm_test = model1.test(X_test, Y_test)"
   ]
  },
  {
   "cell_type": "code",
   "execution_count": 8,
   "metadata": {},
   "outputs": [
    {
     "data": {
      "image/png": "[encoded data removed]",
      "text/plain": [
       "<Figure size 750x750 with 1 Axes>"
      ]
     },
     "metadata": {},
     "output_type": "display_data"
    }
   ],
   "source": [
    "# Plot Confusion Matrix with Matplotlib\n",
    "plotConfusionMatrix(cm_test)"
   ]
  },
  {
   "cell_type": "code",
   "execution_count": 9,
   "metadata": {},
   "outputs": [
    {
     "data": {
      "image/png": "[encoded data removed]",
      "text/plain": [
       "<Figure size 640x480 with 1 Axes>"
      ]
     },
     "metadata": {},
     "output_type": "display_data"
    }
   ],
   "source": [
    "# Plot Learning Curve with matplotlib\n",
    "plotLearningCurve(history)"
   ]
  },
  {
   "cell_type": "code",
   "execution_count": 10,
   "metadata": {},
   "outputs": [
    {
     "name": "stdout",
     "output_type": "stream",
     "text": [
      "Metrics on Training set: {'accuracy': 0.9423984891406988, 'precision': 0.8453237410071942, 'recall': 0.9288537549407114, 'f1_score': 0.8851224105461392}\n",
      "Metrics on Testing set: {'accuracy': 0.9622641509433962, 'precision': 0.9041095890410958, 'recall': 0.9565217391304348, 'f1_score': 0.9295774647887325}\n"
     ]
    }
   ],
   "source": [
    "# Print Metrics\n",
    "print(f'Metrics on Training set: {scores_train}')\n",
    "print(f'Metrics on Testing set: {scores_test}')"
   ]
  }
 ],
 "metadata": {
  "kernelspec": {
   "display_name": "Python 3",
   "language": "python",
   "name": "python3"
  },
  "language_info": {
   "codemirror_mode": {
    "name": "ipython",
    "version": 3
   },
   "file_extension": ".py",
   "mimetype": "text/x-python",
   "name": "python",
   "nbconvert_exporter": "python",
   "pygments_lexer": "ipython3",
   "version": "3.10.12"
  }
 },
 "nbformat": 4,
 "nbformat_minor": 2
}
